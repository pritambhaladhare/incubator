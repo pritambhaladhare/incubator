{
  "nbformat": 4,
  "nbformat_minor": 0,
  "metadata": {
    "kernelspec": {
      "display_name": "Python 3",
      "language": "python",
      "name": "python3"
    },
    "language_info": {
      "codemirror_mode": {
        "name": "ipython",
        "version": 3
      },
      "file_extension": ".py",
      "mimetype": "text/x-python",
      "name": "python",
      "nbconvert_exporter": "python",
      "pygments_lexer": "ipython3",
      "version": "3.7.3"
    },
    "colab": {
      "name": "brain_tumor_classification.ipynb",
      "provenance": []
    }
  },
  "cells": [
    {
      "cell_type": "code",
      "metadata": {
        "id": "KXpbtJpuqnXS",
        "colab_type": "code",
        "colab": {}
      },
      "source": [
        "import pandas as pd\n",
        "import numpy as np\n",
        "import os\n",
        "import tensorflow as tf\n",
        "import keras\n",
        "import matplotlib.pyplot as plt\n",
        "from tensorflow.keras.layers import Dense, GlobalAveragePooling2D\n",
        "from tensorflow.keras.applications.vgg16 import VGG16\n",
        "from tensorflow.keras.preprocessing import image\n",
        "from tensorflow.keras.applications.vgg16 import preprocess_input\n",
        "from tensorflow.keras.preprocessing.image import ImageDataGenerator\n",
        "from tensorflow.keras.models import Model\n",
        "from tensorflow.keras.optimizers import Adam"
      ],
      "execution_count": 0,
      "outputs": []
    },
    {
      "cell_type": "code",
      "metadata": {
        "id": "0S2LDHI4qpWq",
        "colab_type": "code",
        "outputId": "3113e75c-f7e3-4db0-909e-2b3f928a0979",
        "colab": {
          "base_uri": "https://localhost:8080/",
          "height": 35
        }
      },
      "source": [
        "from google.colab import drive\n",
        "drive.mount('/content/drive')\n"
      ],
      "execution_count": 15,
      "outputs": [
        {
          "output_type": "stream",
          "text": [
            "Drive already mounted at /content/drive; to attempt to forcibly remount, call drive.mount(\"/content/drive\", force_remount=True).\n"
          ],
          "name": "stdout"
        }
      ]
    },
    {
      "cell_type": "code",
      "metadata": {
        "id": "4fqZhcV7rwBc",
        "colab_type": "code",
        "colab": {}
      },
      "source": [
        "os.chdir('/content/drive/My Drive/brain/Brain_Tumor_Classification')"
      ],
      "execution_count": 0,
      "outputs": []
    },
    {
      "cell_type": "code",
      "metadata": {
        "id": "kdOAzXp_qnXa",
        "colab_type": "code",
        "colab": {}
      },
      "source": [
        "image_size = [224,224]\n",
        "data_path = 'Data'"
      ],
      "execution_count": 0,
      "outputs": []
    },
    {
      "cell_type": "code",
      "metadata": {
        "id": "MoMxx_5VqnXe",
        "colab_type": "code",
        "colab": {}
      },
      "source": [
        "vgg = VGG16(input_shape= image_size+[3],weights='imagenet',include_top=False)\n",
        "# vgg = VGG16(input_shape= image_size+[3],include_top=False)"
      ],
      "execution_count": 0,
      "outputs": []
    },
    {
      "cell_type": "code",
      "metadata": {
        "id": "UA-dHi6FS5QY",
        "colab_type": "code",
        "colab": {
          "base_uri": "https://localhost:8080/",
          "height": 72
        },
        "outputId": "bffaa4e6-6ee5-46dd-ba78-ba27b8399faa"
      },
      "source": [
        "from tensorflow.keras.applications.inception_v3 import InceptionV3\n",
        "incp3 = InceptionV3(input_shape= image_size+[3],weights='imagenet',include_top=False) "
      ],
      "execution_count": 19,
      "outputs": [
        {
          "output_type": "stream",
          "text": [
            "Downloading data from https://github.com/fchollet/deep-learning-models/releases/download/v0.5/inception_v3_weights_tf_dim_ordering_tf_kernels_notop.h5\n",
            "87916544/87910968 [==============================] - 4s 0us/step\n"
          ],
          "name": "stdout"
        }
      ]
    },
    {
      "cell_type": "code",
      "metadata": {
        "id": "KXWfXnr1qnXk",
        "colab_type": "code",
        "outputId": "203becde-17ad-41ab-8f46-2c8af4089472",
        "colab": {
          "base_uri": "https://localhost:8080/",
          "height": 35
        }
      },
      "source": [
        "vgg.output"
      ],
      "execution_count": 20,
      "outputs": [
        {
          "output_type": "execute_result",
          "data": {
            "text/plain": [
              "<tf.Tensor 'block5_pool_1/MaxPool:0' shape=(?, 7, 7, 512) dtype=float32>"
            ]
          },
          "metadata": {
            "tags": []
          },
          "execution_count": 20
        }
      ]
    },
    {
      "cell_type": "code",
      "metadata": {
        "id": "OHh3MDTyqnXr",
        "colab_type": "code",
        "colab": {}
      },
      "source": [
        "x = vgg.output\n",
        "x = GlobalAveragePooling2D()(x)"
      ],
      "execution_count": 0,
      "outputs": []
    },
    {
      "cell_type": "code",
      "metadata": {
        "id": "Zsrl-A56qnXv",
        "colab_type": "code",
        "colab": {}
      },
      "source": [
        "x = Dense(1024,activation='relu')(x)\n",
        "x = Dense(1024,activation='relu')(x)\n",
        "x = Dense(512, activation='relu')(x)"
      ],
      "execution_count": 0,
      "outputs": []
    },
    {
      "cell_type": "code",
      "metadata": {
        "id": "DYLjxeSCqnXz",
        "colab_type": "code",
        "colab": {}
      },
      "source": [
        "preds = Dense(2,activation='softmax')(x)\n",
        "#Prediction layer with 2 Neurons because we have to classify between 2 Categories \n",
        "#add *Softmax* Activation Function which is for Probability Distribution"
      ],
      "execution_count": 0,
      "outputs": []
    },
    {
      "cell_type": "code",
      "metadata": {
        "id": "iKDO3RObqnX3",
        "colab_type": "code",
        "colab": {}
      },
      "source": [
        "model = Model(inputs = vgg.input,outputs=preds)\n",
        "# model2 = Model(inputs = vgg_wt.input,outputs=preds)"
      ],
      "execution_count": 0,
      "outputs": []
    },
    {
      "cell_type": "code",
      "metadata": {
        "id": "HB6thT61qnX_",
        "colab_type": "code",
        "outputId": "cabeae7d-d11f-495b-bdec-047137ab9674",
        "colab": {
          "base_uri": "https://localhost:8080/",
          "height": 988
        }
      },
      "source": [
        "model.summary()"
      ],
      "execution_count": 25,
      "outputs": [
        {
          "output_type": "stream",
          "text": [
            "Model: \"model_1\"\n",
            "_________________________________________________________________\n",
            "Layer (type)                 Output Shape              Param #   \n",
            "=================================================================\n",
            "input_2 (InputLayer)         [(None, 224, 224, 3)]     0         \n",
            "_________________________________________________________________\n",
            "block1_conv1 (Conv2D)        (None, 224, 224, 64)      1792      \n",
            "_________________________________________________________________\n",
            "block1_conv2 (Conv2D)        (None, 224, 224, 64)      36928     \n",
            "_________________________________________________________________\n",
            "block1_pool (MaxPooling2D)   (None, 112, 112, 64)      0         \n",
            "_________________________________________________________________\n",
            "block2_conv1 (Conv2D)        (None, 112, 112, 128)     73856     \n",
            "_________________________________________________________________\n",
            "block2_conv2 (Conv2D)        (None, 112, 112, 128)     147584    \n",
            "_________________________________________________________________\n",
            "block2_pool (MaxPooling2D)   (None, 56, 56, 128)       0         \n",
            "_________________________________________________________________\n",
            "block3_conv1 (Conv2D)        (None, 56, 56, 256)       295168    \n",
            "_________________________________________________________________\n",
            "block3_conv2 (Conv2D)        (None, 56, 56, 256)       590080    \n",
            "_________________________________________________________________\n",
            "block3_conv3 (Conv2D)        (None, 56, 56, 256)       590080    \n",
            "_________________________________________________________________\n",
            "block3_pool (MaxPooling2D)   (None, 28, 28, 256)       0         \n",
            "_________________________________________________________________\n",
            "block4_conv1 (Conv2D)        (None, 28, 28, 512)       1180160   \n",
            "_________________________________________________________________\n",
            "block4_conv2 (Conv2D)        (None, 28, 28, 512)       2359808   \n",
            "_________________________________________________________________\n",
            "block4_conv3 (Conv2D)        (None, 28, 28, 512)       2359808   \n",
            "_________________________________________________________________\n",
            "block4_pool (MaxPooling2D)   (None, 14, 14, 512)       0         \n",
            "_________________________________________________________________\n",
            "block5_conv1 (Conv2D)        (None, 14, 14, 512)       2359808   \n",
            "_________________________________________________________________\n",
            "block5_conv2 (Conv2D)        (None, 14, 14, 512)       2359808   \n",
            "_________________________________________________________________\n",
            "block5_conv3 (Conv2D)        (None, 14, 14, 512)       2359808   \n",
            "_________________________________________________________________\n",
            "block5_pool (MaxPooling2D)   (None, 7, 7, 512)         0         \n",
            "_________________________________________________________________\n",
            "global_average_pooling2d_1 ( (None, 512)               0         \n",
            "_________________________________________________________________\n",
            "dense_4 (Dense)              (None, 1024)              525312    \n",
            "_________________________________________________________________\n",
            "dense_5 (Dense)              (None, 1024)              1049600   \n",
            "_________________________________________________________________\n",
            "dense_6 (Dense)              (None, 512)               524800    \n",
            "_________________________________________________________________\n",
            "dense_7 (Dense)              (None, 2)                 1026      \n",
            "=================================================================\n",
            "Total params: 16,815,426\n",
            "Trainable params: 16,815,426\n",
            "Non-trainable params: 0\n",
            "_________________________________________________________________\n"
          ],
          "name": "stdout"
        }
      ]
    },
    {
      "cell_type": "code",
      "metadata": {
        "id": "-w4bQ6nHqnYG",
        "colab_type": "code",
        "colab": {}
      },
      "source": [
        "# for layer in vgg.layers[:20]:\n",
        "#     layer.trainable=False\n",
        "# for layer in vgg.layers[20:]:\n",
        "#     layer.trainable = True"
      ],
      "execution_count": 0,
      "outputs": []
    },
    {
      "cell_type": "code",
      "metadata": {
        "id": "yQctwBVAqnYK",
        "colab_type": "code",
        "colab": {}
      },
      "source": [
        "for layer in vgg.layers:\n",
        "    layer.trainable = False"
      ],
      "execution_count": 0,
      "outputs": []
    },
    {
      "cell_type": "code",
      "metadata": {
        "id": "xD0fXY6LqnYO",
        "colab_type": "code",
        "outputId": "5e09fb5b-5294-445d-dfd6-fc4f6f17732b",
        "colab": {
          "base_uri": "https://localhost:8080/",
          "height": 52
        }
      },
      "source": [
        "train_datagen=ImageDataGenerator(preprocessing_function=preprocess_input, validation_split=0.2) #included in our dependencies\n",
        "#a Keras ImageDataGenerator  object that is used to apply data augmentation, randomly translating, rotating, resizing, etc. images on the fly\n",
        "#Performing data augmentation is a form of regularization, enabling our model to generalize better\n",
        "\n",
        "train_generator=train_datagen.flow_from_directory('Data/', # this is where you specify the path to the main data folder\n",
        "                                                 target_size=(224,224),\n",
        "                                                 color_mode='rgb',\n",
        "                                                 batch_size=32,\n",
        "                                                 class_mode='categorical',\n",
        "                                                 shuffle=True,\n",
        "                                                 subset='training')\n",
        "\n",
        "test_generator=train_datagen.flow_from_directory('Data/', # this is where you specify the path to the main data folder\n",
        "                                                 target_size=(224,224),\n",
        "                                                 color_mode='rgb',\n",
        "                                                 batch_size=32,\n",
        "                                                 class_mode='categorical',\n",
        "                                                 shuffle=True,\n",
        "                                                 subset='validation')"
      ],
      "execution_count": 28,
      "outputs": [
        {
          "output_type": "stream",
          "text": [
            "Found 203 images belonging to 2 classes.\n",
            "Found 50 images belonging to 2 classes.\n"
          ],
          "name": "stdout"
        }
      ]
    },
    {
      "cell_type": "code",
      "metadata": {
        "id": "a-H6v5UfWZnC",
        "colab_type": "code",
        "outputId": "17bf57f2-1c23-4d8b-edc0-979b27016981",
        "colab": {
          "base_uri": "https://localhost:8080/",
          "height": 35
        }
      },
      "source": [
        "type(train_datagen)"
      ],
      "execution_count": 29,
      "outputs": [
        {
          "output_type": "execute_result",
          "data": {
            "text/plain": [
              "tensorflow.python.keras.preprocessing.image.ImageDataGenerator"
            ]
          },
          "metadata": {
            "tags": []
          },
          "execution_count": 29
        }
      ]
    },
    {
      "cell_type": "code",
      "metadata": {
        "id": "d974uja6qnYU",
        "colab_type": "code",
        "colab": {}
      },
      "source": [
        "model.compile(optimizer='Adam',\n",
        "              loss='categorical_crossentropy',\n",
        "              metrics=['accuracy'])"
      ],
      "execution_count": 0,
      "outputs": []
    },
    {
      "cell_type": "code",
      "metadata": {
        "id": "MIVYofVUqnYZ",
        "colab_type": "code",
        "outputId": "89d716ac-26ba-4a3e-b618-7e541d9c8251",
        "colab": {
          "base_uri": "https://localhost:8080/",
          "height": 69
        }
      },
      "source": [
        "print(train_generator.n)\n",
        "print(train_generator.batch_size)\n",
        "print(253//32)"
      ],
      "execution_count": 31,
      "outputs": [
        {
          "output_type": "stream",
          "text": [
            "203\n",
            "32\n",
            "7\n"
          ],
          "name": "stdout"
        }
      ]
    },
    {
      "cell_type": "code",
      "metadata": {
        "id": "br2WIXM-qnYe",
        "colab_type": "code",
        "outputId": "7204035d-e053-4fea-e360-dcdf25c173c6",
        "colab": {
          "base_uri": "https://localhost:8080/",
          "height": 451
        }
      },
      "source": [
        "from keras.callbacks import History, ModelCheckpoint\n",
        "filepath = 'Model/Model-ep{epoch:03d}-loss{loss:3f}-acc{acc:3f}.h5'\n",
        "early_stop = ModelCheckpoint(filepath, monitor='val_loss', verbose=1, mode='min')\n",
        "callbacks_list = [early_stop]\n",
        "\n",
        "\n",
        "step_size_train=train_generator.n//train_generator.batch_size\n",
        "# r = model.fit_generator(generator=train_generator,\n",
        "#                    steps_per_epoch=step_size_train,\n",
        "#                    epochs=5, callbacks=callbacks_list)\n",
        "\n",
        "history = model.fit_generator(train_generator, callbacks=callbacks_list, epochs=5, \n",
        "                              steps_per_epoch=step_size_train, validation_data=test_generator,\n",
        "                              validation_steps=50//train_generator.batch_size, verbose=1, \n",
        "                              use_multiprocessing=True, workers=8, max_queue_size=10, shuffle=True)"
      ],
      "execution_count": 32,
      "outputs": [
        {
          "output_type": "stream",
          "text": [
            "Epoch 1/5\n",
            "5/6 [========================>.....] - ETA: 12s - loss: 4.6874 - acc: 0.6187Epoch 1/5\n",
            "1/6 [====>.........................] - ETA: 2:16 - loss: 0.3680 - acc: 0.8438\n",
            "Epoch 00001: saving model to Model/Model-ep001-loss3.217210-acc0.590643.h5\n",
            "6/6 [==============================] - 107s 18s/step - loss: 4.0617 - acc: 0.5906 - val_loss: 0.3680 - val_acc: 0.8438\n",
            "Epoch 2/5\n",
            "5/6 [========================>.....] - ETA: 10s - loss: 0.6235 - acc: 0.6691Epoch 1/5\n",
            "1/6 [====>.........................] - ETA: 1:03 - loss: 0.3451 - acc: 0.9062\n",
            "Epoch 00002: saving model to Model/Model-ep002-loss0.643324-acc0.649123.h5\n",
            "6/6 [==============================] - 75s 12s/step - loss: 0.6483 - acc: 0.6491 - val_loss: 0.3451 - val_acc: 0.9062\n",
            "Epoch 3/5\n",
            "5/6 [========================>.....] - ETA: 11s - loss: 0.3734 - acc: 0.8438Epoch 1/5\n",
            "1/6 [====>.........................] - ETA: 1:02 - loss: 0.3876 - acc: 0.8438\n",
            "Epoch 00003: saving model to Model/Model-ep003-loss0.358220-acc0.848958.h5\n",
            "6/6 [==============================] - 81s 13s/step - loss: 0.3582 - acc: 0.8490 - val_loss: 0.3876 - val_acc: 0.8438\n",
            "Epoch 4/5\n",
            "5/6 [========================>.....] - ETA: 10s - loss: 0.2702 - acc: 0.8849Epoch 1/5\n",
            "1/6 [====>.........................] - ETA: 1:03 - loss: 0.3573 - acc: 0.9375\n",
            "Epoch 00004: saving model to Model/Model-ep004-loss0.252478-acc0.883041.h5\n",
            "6/6 [==============================] - 74s 12s/step - loss: 0.2619 - acc: 0.8830 - val_loss: 0.3573 - val_acc: 0.9375\n",
            "Epoch 5/5\n",
            "5/6 [========================>.....] - ETA: 8s - loss: 0.1930 - acc: 0.9068 Epoch 1/5\n",
            "1/6 [====>.........................] - ETA: 1:03 - loss: 0.1598 - acc: 0.8750\n",
            "Epoch 00005: saving model to Model/Model-ep005-loss0.217011-acc0.900000.h5\n",
            "6/6 [==============================] - 67s 11s/step - loss: 0.2075 - acc: 0.9000 - val_loss: 0.1598 - val_acc: 0.8750\n"
          ],
          "name": "stdout"
        }
      ]
    },
    {
      "cell_type": "code",
      "metadata": {
        "id": "reSIXJPJqnYm",
        "colab_type": "code",
        "colab": {}
      },
      "source": [
        "# Overfitting if: training loss << validation loss\n",
        "# Underfitting if: training loss >> validation loss\n",
        "# Just right if training loss ~ validation loss\n",
        "\n",
        "# # plot the loss\n",
        "# plt.plot(history.history['loss'], label='train loss')\n",
        "# # plt.plot(r.history['val_loss'], label='val loss')\n",
        "# plt.legend()\n",
        "# plt.show()\n",
        "# plt.plot(history.history['acc'], label='train accuracy')\n",
        "# # plt.savefig('LossVal_loss')\n",
        "# plt.legend()\n",
        "# plt.show()\n",
        "# # plot the loss\n",
        "# plt.plot(history.history['val_loss'], label='test loss')\n",
        "# # plt.plot(r.history['val_loss'], label='val loss')\n",
        "# plt.legend()\n",
        "# plt.show()\n",
        "# plt.plot(history.history['val_acc'], label='test accuracy')\n",
        "# # plt.savefig('LossVal_loss')\n",
        "# plt.legend()\n",
        "# plt.show()"
      ],
      "execution_count": 0,
      "outputs": []
    },
    {
      "cell_type": "code",
      "metadata": {
        "id": "YaGx5qyPiPUj",
        "colab_type": "code",
        "colab": {
          "base_uri": "https://localhost:8080/",
          "height": 327
        },
        "outputId": "3ff4fe10-d2ef-4aa1-8965-5e0abfcb3117"
      },
      "source": [
        "plt.figure()\n",
        "fig=plt.figure(figsize=(10, 4), dpi= 80, facecolor='w', edgecolor='k')\n",
        "# Train Loss\n",
        "plt.subplot(121)\n",
        "plt.plot(history.history['loss'], label='train loss')\n",
        "# plt.yscale('linear')\n",
        "plt.title('Train Loss')\n",
        "plt.grid(True)\n",
        "\n",
        "\n",
        "# Train Accuracy\n",
        "plt.subplot(122)\n",
        "plt.plot(history.history['acc'], label='train acc')\n",
        "plt.title('Train Accuracy')\n",
        "plt.grid(True)\n",
        "\n",
        "plt.show()"
      ],
      "execution_count": 53,
      "outputs": [
        {
          "output_type": "display_data",
          "data": {
            "text/plain": [
              "<Figure size 432x288 with 0 Axes>"
            ]
          },
          "metadata": {
            "tags": []
          }
        },
        {
          "output_type": "display_data",
          "data": {
            "image/png": "[encoded data removed]",
            "text/plain": [
              "<Figure size 800x320 with 2 Axes>"
            ]
          },
          "metadata": {
            "tags": []
          }
        }
      ]
    },
    {
      "cell_type": "code",
      "metadata": {
        "id": "4neLQRbfjmZn",
        "colab_type": "code",
        "colab": {
          "base_uri": "https://localhost:8080/",
          "height": 195
        },
        "outputId": "bce2d742-17e0-4a1d-fe0a-91cab868e416"
      },
      "source": [
        "plt.figure()\n",
        "fig=plt.figure(figsize=(10, 4), dpi= 80, facecolor='w', edgecolor='k')\n",
        "# Test Loss\n",
        "plt.subplot(223)\n",
        "plt.plot(history.history['val_loss'], label='test loss')\n",
        "plt.title('Test Loss')\n",
        "plt.grid(True)\n",
        "\n",
        "# Test accuracy\n",
        "plt.subplot(224)\n",
        "plt.plot(history.history['val_acc'], label='train acc')\n",
        "plt.title('Test Accuracy')\n",
        "plt.grid(True)\n",
        "plt.show()"
      ],
      "execution_count": 54,
      "outputs": [
        {
          "output_type": "display_data",
          "data": {
            "text/plain": [
              "<Figure size 432x288 with 0 Axes>"
            ]
          },
          "metadata": {
            "tags": []
          }
        },
        {
          "output_type": "display_data",
          "data": {
            "image/png": "[encoded data removed]",
            "text/plain": [
              "<Figure size 800x320 with 2 Axes>"
            ]
          },
          "metadata": {
            "tags": []
          }
        }
      ]
    },
    {
      "cell_type": "code",
      "metadata": {
        "id": "69AWDFRVqnYs",
        "colab_type": "code",
        "colab": {}
      },
      "source": [
        "from tensorflow.keras.models import load_model"
      ],
      "execution_count": 0,
      "outputs": []
    },
    {
      "cell_type": "code",
      "metadata": {
        "id": "JY7rZmcbqnYx",
        "colab_type": "code",
        "colab": {}
      },
      "source": [
        "# model.save('test2_brain_tumor.h5')"
      ],
      "execution_count": 0,
      "outputs": []
    },
    {
      "cell_type": "code",
      "metadata": {
        "id": "QXYmsIpHqnY1",
        "colab_type": "code",
        "outputId": "1d117662-0b25-403e-dd9f-bf4d857e543e",
        "colab": {
          "base_uri": "https://localhost:8080/",
          "height": 225
        }
      },
      "source": [
        "history.history"
      ],
      "execution_count": 36,
      "outputs": [
        {
          "output_type": "execute_result",
          "data": {
            "text/plain": [
              "{'acc': [0.5906433, 0.64912283, 0.8489583, 0.88304096, 0.9],\n",
              " 'loss': [3.2172100334836724,\n",
              "  0.6433244504426655,\n",
              "  0.35822027921676636,\n",
              "  0.25247758661794384,\n",
              "  0.21701092685262363],\n",
              " 'val_acc': [0.84375, 0.90625, 0.84375, 0.9375, 0.875],\n",
              " 'val_loss': [0.3680068850517273,\n",
              "  0.34505268931388855,\n",
              "  0.38759613037109375,\n",
              "  0.35730454325675964,\n",
              "  0.15983900427818298]}"
            ]
          },
          "metadata": {
            "tags": []
          },
          "execution_count": 36
        }
      ]
    },
    {
      "cell_type": "code",
      "metadata": {
        "id": "zGFQSQjCqnY8",
        "colab_type": "code",
        "colab": {}
      },
      "source": [
        ""
      ],
      "execution_count": 0,
      "outputs": []
    },
    {
      "cell_type": "code",
      "metadata": {
        "id": "u-w1qRp9qnZM",
        "colab_type": "code",
        "colab": {}
      },
      "source": [
        ""
      ],
      "execution_count": 0,
      "outputs": []
    }
  ]
}